{
 "cells": [
  {
   "cell_type": "markdown",
   "id": "d4bd7e7b",
   "metadata": {},
   "source": [
    "# Link prediction project for paper citations\n",
    "## Preprocessing\n"
   ]
  },
  {
   "cell_type": "code",
   "execution_count": 1,
   "id": "e7d9cd79",
   "metadata": {},
   "outputs": [],
   "source": [
    "import pandas as pd\n",
    "import numpy as np\n",
    "import networkx as nx\n",
    "from sklearn.model_selection import train_test_split\n",
    "from sklearn.linear_model import LogisticRegression\n",
    "from sklearn.metrics import log_loss \n",
    "import matplotlib.pyplot as plt\n",
    "from sklearn.preprocessing import scale\n",
    "import random as rand\n",
    "import csv\n",
    "from sklearn.utils import shuffle\n",
    "import gensim\n",
    "from gensim.models import Word2Vec\n",
    "from sklearn.naive_bayes import MultinomialNB\n",
    "from sklearn.naive_bayes import BernoulliNB\n",
    "from sklearn.naive_bayes import GaussianNB\n",
    "from sklearn.naive_bayes import CategoricalNB\n",
    "from sklearn.naive_bayes import ComplementNB"
   ]
  },
  {
   "cell_type": "code",
   "execution_count": 2,
   "id": "2a4f6f89",
   "metadata": {
    "scrolled": true
   },
   "outputs": [
    {
     "name": "stdout",
     "output_type": "stream",
     "text": [
      "   nodes  edges\n",
      "0      0      1\n",
      "1      0      2\n",
      "2      1      3\n",
      "3      1      5\n",
      "4      1      6\n"
     ]
    },
    {
     "data": {
      "text/plain": [
       "False"
      ]
     },
     "execution_count": 2,
     "metadata": {},
     "output_type": "execute_result"
    }
   ],
   "source": [
    "# Data preparation\n",
    "\n",
    "dataset = pd.read_csv('datasets/edgelist.txt', sep = ',' ,header = None)\n",
    "\n",
    "\n",
    "# add names to columns for easier manipulation of data\n",
    "dataset.columns = ['nodes','edges']\n",
    "\n",
    "print(dataset.head())\n",
    "\n",
    "# check for nan values\n",
    "dataset.isnull().values.any()"
   ]
  },
  {
   "cell_type": "markdown",
   "id": "5d514723",
   "metadata": {},
   "source": [
    "### Graph creation and plot"
   ]
  },
  {
   "cell_type": "code",
   "execution_count": 3,
   "id": "65846895",
   "metadata": {
    "scrolled": true
   },
   "outputs": [
    {
     "data": {
      "image/png": "[encoded data removed]",
      "text/plain": [
       "<Figure size 432x288 with 1 Axes>"
      ]
     },
     "metadata": {},
     "output_type": "display_data"
    }
   ],
   "source": [
    "Graph = nx.Graph()\n",
    "\n",
    "# add nodes\n",
    "\n",
    "for x in dataset['nodes']:\n",
    "    Graph.add_node(x)\n",
    "\n",
    "# add edges\n",
    "\n",
    "for x,y in dataset.itertuples(index = False):\n",
    "    Graph.add_edge(x,y)\n",
    "    \n",
    "    \n",
    "\n",
    "# creation of sub graph for plotting \n",
    "\n",
    "subset_data = pd.DataFrame(columns = ['nodes','edges'])\n",
    "\n",
    "subset_data = dataset.head(300)\n",
    "\n",
    "subG = nx.Graph()\n",
    "\n",
    "for x in subset_data['nodes']:\n",
    "    subG.add_node(x)\n",
    "    \n",
    "for x,y in subset_data.itertuples(index = False):\n",
    "    subG.add_edge(x,y)\n",
    "    \n",
    "# plot graph\n",
    "\n",
    "nx.draw(subG)\n",
    "\n",
    "plt.show()"
   ]
  },
  {
   "cell_type": "markdown",
   "id": "bda34995",
   "metadata": {},
   "source": [
    "## Feature Extraction"
   ]
  },
  {
   "cell_type": "code",
   "execution_count": 48,
   "id": "acbe8209",
   "metadata": {},
   "outputs": [
    {
     "name": "stdout",
     "output_type": "stream",
     "text": [
      "Arrays created successfully.\n",
      "12\n",
      "Author graph created successfully.\n"
     ]
    }
   ],
   "source": [
    "m = Graph.number_of_edges()\n",
    "nodeCount = Graph.number_of_nodes()\n",
    "n = 8 # number of features\n",
    "\n",
    "X_train = np.zeros((2*m,n))\n",
    "y_train = np.zeros(2*m)\n",
    "\n",
    "\n",
    "\n",
    "\"\"\"\n",
    "for i in range(0,m):\n",
    "    X_train[i,0] = Graph.degree[dataset['nodes'][i]] # degree of first node\n",
    "    X_train[i,1] = Graph.degree[dataset['edges'][i]] # degree of second node\n",
    "    X_train[i,2] = X[i,0] + X[i,1] # sum of these degrees\n",
    "\n",
    "\n",
    "for i in range(m,2*m): # we take all unconnected pairs for negative sample \n",
    "    X_train[i,0] = 138499 - X[i-m,0] # Graph.degree[dataset['nodes'][rand.randint(0,m-1)]]\n",
    "    X_train[i,1] = 138499 - X[i-m,1] # Graph.degree[dataset['edges'][rand.randint(0,m-1)]]\n",
    "    X_train[i,2] = X[i,0] + X[i,1]\n",
    "\n",
    "\"\"\"\n",
    "\n",
    "# Read the abstract of each paper\n",
    "\n",
    "abstracts = dict()\n",
    "with open('datasets/abstracts.txt', 'r', encoding = 'utf8') as f:\n",
    "    for line in f:\n",
    "        node, abstract = line.split('|--|')\n",
    "        abstracts[int(node)] = abstract\n",
    "        \n",
    "for node in abstracts:\n",
    "    abstracts[node] = set(abstracts[node].split())\n",
    "\n",
    "# Read the authors of each paper\n",
    "\n",
    "authors = dict()\n",
    "with open('datasets/authors.txt', 'r', encoding = 'utf8') as f:\n",
    "    for line in f:\n",
    "        node, author = line.split('|--|')\n",
    "        authors[int(node)] = author        \n",
    "        \n",
    "for node in authors:\n",
    "    authors[node] = authors[node].strip(\"\\n\")\n",
    "    #authors[node] = authors[node].replace(',',' ')\n",
    "    authors[node] = set(authors[node].split(\",\"))\n",
    "    \n",
    "print(\"Arrays created successfully.\")\n",
    "\n",
    "# Author graph creation\n",
    "\n",
    "authorGraph = nx.Graph()\n",
    "\n",
    "\n",
    "\n",
    "for i,edge in enumerate(Graph.edges()):\n",
    "    result = authors[edge[0]].intersection(authors[edge[1]])\n",
    "    \n",
    "    # for word in result: just in case\n",
    "    for word3 in authors[edge[1]]:\n",
    "        authorGraph.add_node(word3)\n",
    "    \n",
    "    for word in authors[edge[0]]:\n",
    "        authorGraph.add_node(word)\n",
    "        if result:\n",
    "            for word2 in authors[edge[1]]:\n",
    "                if word == word2:\n",
    "                    continue\n",
    "                else:\n",
    "                    authorGraph.add_edge(word,word2)\n",
    "                   \n",
    "\n",
    "    \n",
    "        \n",
    "print(authorGraph.degree['Jian-Xun Peng'])\n",
    "\n",
    "print(\"Author graph created successfully.\")\n",
    "\n",
    "\n",
    "authorDeg = np.zeros((m,2))\n",
    "sum0 = 0\n",
    "sum1 = 0\n",
    "\n",
    "for i,edge in enumerate(Graph.edges()):\n",
    "    for word in authors[edge[0]]:\n",
    "        sum0 += authorGraph.degree[word]\n",
    "    for word2 in authors[edge[1]]:\n",
    "        sum1 += authorGraph.degree[word2]\n",
    "    authorDeg[i,0] = sum0\n",
    "    authorDeg[i,1] = sum1\n",
    "    sum0 = 0\n",
    "    sum1 = 0\n",
    "\n",
    "#for i,edge in enumerate(authorGraph.edges()):\n",
    "    #authorDeg.append(authorGraph.degree[i])"
   ]
  },
  {
   "cell_type": "markdown",
   "id": "1b50edc5",
   "metadata": {},
   "source": [
    "## Model creation and evaluation"
   ]
  },
  {
   "cell_type": "code",
   "execution_count": 49,
   "id": "527b03d6",
   "metadata": {
    "scrolled": true
   },
   "outputs": [
    {
     "name": "stdout",
     "output_type": "stream",
     "text": [
      "Hello\n",
      "106692\n",
      "Model fitted successfully.\n"
     ]
    }
   ],
   "source": [
    "# kapws na vrw : len(abstracts[edge[0]].intersection(authors[edge[1]]))    \n",
    "   \n",
    "# possible feature : CBOW model me vectors abstract[edge[0]] kai abstract[edge[1]] px , pairnoume\n",
    "# to cosine similarity ws feature sto Xtrain.\n",
    "    \n",
    "# Features :\n",
    "# (1) sum of number of unique terms of the two nodes' abstracts\n",
    "# (2) absolute value of difference of number of unique terms of the two nodes' abstracts\n",
    "# (3) number of common terms between the abstracts of the two nodes\n",
    "# (4) sum of degrees of graph nodes\n",
    "# (5) absolute value of degrees of graph nodes\n",
    "# (6) Check if an author that exists in the left node's abstract , also exists in the right node's authors list.\n",
    "# (7) Cosine similarity between two abstracts\n",
    "# (8) sum of Author graph degrees\n",
    "# (9) absolute value of difference of author graph degrees.\n",
    "\n",
    "sim = 0\n",
    "sim2 = 0\n",
    "sim3 = 0\n",
    "\n",
    "#absSet = list(map(list,abstracts.values()))\n",
    "    \n",
    "#model1 = Word2Vec(absSet,min_count = 1, vector_size = 100)\n",
    "#sim4 = model1.wv.most_similar(positive = absSet[0])\n",
    "\n",
    "print(\"Hello\")\n",
    "\"\"\"\n",
    "for i,edge in enumerate(Graph.edges()):\n",
    "    # CBOW testing\n",
    "    #abslist0 = list(abstracts[edge[0]])\n",
    "    #abslist1 = list(abstracts[edge[1]])\n",
    "    \n",
    "    if len(abstracts[edge[0]]) == 0 or len(abstracts[edge[1]]) == 0:\n",
    "        continue\n",
    "    else:\n",
    "        #model1 = Word2Vec(abstracts[edge[0]], min_count = 1,vector_size = 10)\n",
    "        sim = model1.wv.n_similarity(abstracts[edge[0]],abstracts[edge[1]])\n",
    "\n",
    "    simContainer.append(sim)\n",
    "\"\"\"\n",
    "\n",
    "\n",
    "for i,edge in enumerate(Graph.edges()):\n",
    "    \n",
    "    # CBOW testing\n",
    "    \"\"\"\n",
    "    if len(abstracts[edge[0]]) == 0 or len(abstracts[edge[1]]) == 0:\n",
    "        continue\n",
    "    else:\n",
    "        #model1 = Word2Vec(abstracts[edge[0]], min_count = 1,vector_size = 10)\n",
    "        sim = model1.wv.n_similarity(abstracts[edge[0]],abstracts[edge[1]])\n",
    "    \"\"\"\n",
    "    \n",
    "    # an edge\n",
    "    X_train[i,0] = len(abstracts[edge[0]]) + len(abstracts[edge[1]])\n",
    "    X_train[i,1] = abs(len(abstracts[edge[0]]) - len(abstracts[edge[1]]))\n",
    "    X_train[i,2] = len(abstracts[edge[0]].intersection(abstracts[edge[1]]))\n",
    "    X_train[i,3] = Graph.degree[edge[0]] + Graph.degree[edge[1]]\n",
    "    X_train[i,4] = abs(Graph.degree[edge[0]] - Graph.degree[edge[1]])\n",
    "    X_train[i,5] = len(authors[edge[0]].intersection(abstracts[edge[1]]))\n",
    "    X_train[i,6] = authorDeg[i,0] + authorDeg[i,1]\n",
    "    X_train[i,7] = abs(authorDeg[i,0] - authorDeg[i,1])\n",
    "    #X_train[i,6] = sim\n",
    "    \n",
    "    y_train[i] = 1\n",
    "    \n",
    "    \n",
    "    # a randomly generated pair of nodes\n",
    "    \n",
    "    n1 = rand.randint(0, nodeCount-1)\n",
    "    n2 = rand.randint(0, nodeCount-1)\n",
    "    \"\"\"\n",
    "    randabslist0 = list(abstracts[n1])\n",
    "    randabslist1 = list(abstracts[n2])\n",
    "    if len(abstracts[n1]) == 0 or len(abstracts[n2]) == 0:\n",
    "        continue\n",
    "    else:\n",
    "        #model2 = gensim.models.Word2Vec(abstracts[n1], min_count = 1,vector_size = 100, window = 5)\n",
    "        sim2 = model1.wv.n_similarity(abstracts[n1],abstracts[n2])\n",
    "    \"\"\"\n",
    "    \n",
    "\n",
    "    X_train[m+i,0] = len(abstracts[n1]) + len(abstracts[n2])\n",
    "    X_train[m+i,1] = abs(len(abstracts[n1]) - len(abstracts[n2]))\n",
    "    X_train[m+i,2] = len(abstracts[n1].intersection(abstracts[n2]))\n",
    "    X_train[m+i,3] = Graph.degree[n1] + Graph.degree[n2]\n",
    "    X_train[m+i,4] = abs(Graph.degree[n1] - Graph.degree[n2])\n",
    "    X_train[m+i,5] = len(authors[n1].intersection(abstracts[n2]))\n",
    "    X_train[m+i,6] = authorDeg[n1,0] + authorDeg[n2,1]\n",
    "    X_train[m+i,7] = abs(authorDeg[n1,0] - authorDeg[n2,1])\n",
    "    #X_train[m+i,6] = sim2\n",
    "    \n",
    "    y_train[m+i] = 0\n",
    "\n",
    "# print(degreeArr[abstracts.get(edge[0])])\n",
    "# 276998 <- 2 * number of nodes\n",
    "# 221598 80% training data\n",
    "# 55400 20% testing data\n",
    "        \n",
    "        \n",
    "# use test pairs as X_test data\n",
    "\n",
    "node_pairs = list()\n",
    "\n",
    "with open('datasets/test.txt', 'r') as f:\n",
    "    for line in f:\n",
    "        t = line.split(',')\n",
    "        node_pairs.append((int(t[0]), int(t[1])))\n",
    "\n",
    "        \n",
    "\n",
    "X_test = np.zeros((len(node_pairs), n))\n",
    "print(len(node_pairs))\n",
    "\n",
    "for i,node_pair in enumerate(node_pairs):\n",
    "    \"\"\"\n",
    "    pairAbsList0 = list(abstracts[node_pair[0]])\n",
    "    pairAbsList1 = list(abstracts[node_pair[1]])\n",
    "    \n",
    "    if len(abstracts[node_pair[0]]) == 0 or len(abstracts[node_pair[1]]) == 0:\n",
    "        continue\n",
    "    else:\n",
    "        #model3 = gensim.models.Word2Vec(pairAbsList0, min_count = 1,vector_size = 100, window = 5)\n",
    "        sim3 = model3.wv.n_similarity(abstracts[node_pair[0]],abstracts[node_pair[1]])\n",
    "    \"\"\"\n",
    "    \n",
    "    X_test[i,0] = len(abstracts[node_pair[0]]) + len(abstracts[node_pair[1]])\n",
    "    X_test[i,1] = abs(len(abstracts[node_pair[0]]) - len(abstracts[node_pair[1]]))\n",
    "    X_test[i,2] = len(abstracts[node_pair[0]].intersection(abstracts[node_pair[1]]))\n",
    "    X_test[i,3] = Graph.degree[node_pair[0]] + Graph.degree[node_pair[1]]\n",
    "    X_test[i,4] = abs(Graph.degree[node_pair[0]] - Graph.degree[node_pair[1]])\n",
    "    X_test[i,5] = len(authors[node_pair[0]].intersection(abstracts[node_pair[1]]))\n",
    "    X_test[i,6] = authorDeg[node_pair[0],0] + authorDeg[node_pair[1],1]\n",
    "    X_test[i,7] = abs(authorDeg[node_pair[0],0] - authorDeg[node_pair[1],1])\n",
    "    #X_test[i,6] = sim3\n",
    "    \n",
    "# shuffle train data\n",
    "\n",
    "X_train, y_train = shuffle(X_train, y_train)\n",
    "    \n",
    "# Testing Logistic Regression model\n",
    "\n",
    "lr = LogisticRegression(solver='liblinear',C=10.0,random_state=0)\n",
    "\n",
    "model = lr.fit(X_train,y_train)\n",
    "\n",
    "print(\"Model fitted successfully.\")"
   ]
  },
  {
   "cell_type": "markdown",
   "id": "ef870237",
   "metadata": {},
   "source": [
    "## Naive Bayes Classifier"
   ]
  },
  {
   "cell_type": "code",
   "execution_count": 29,
   "id": "edd39397",
   "metadata": {
    "scrolled": true
   },
   "outputs": [
    {
     "name": "stdout",
     "output_type": "stream",
     "text": [
      "(106692, 2)\n",
      "2.5257012133231846\n"
     ]
    }
   ],
   "source": [
    "# Naive Bayes Classifier model\n",
    "# at this point best NB is the Categorical one with 0.52 log loss\n",
    "\n",
    "NB = CategoricalNB()\n",
    "NBmodel = NB.fit(X_train,y_train)\n",
    "\n",
    "nby_pred = NBmodel.predict_proba(X_test)\n",
    "#for i in range(0,10):\n",
    "   # print(nby_pred)\n",
    "print(nby_pred.shape)\n",
    "nby_pred = nby_pred[:,1]\n",
    "\n",
    "# NB CSV creation\n",
    "\n",
    "predictions = zip(range(len(nby_pred)), nby_pred)\n",
    "with open(\"submission_NB_csv.csv\",\"w\" , newline = '') as pred:\n",
    "    csv_out = csv.writer(pred)\n",
    "    csv_out.writerow(['id','predicted'])\n",
    "    for row in predictions:\n",
    "        csv_out.writerow(row)\n",
    "        \n",
    "\n",
    "binarray = np.zeros(len(X_test))\n",
    "mean = np.mean(X_test)\n",
    "\n",
    "for i in range(0,len(X_test)):\n",
    "    meanTuple = np.mean(X_test[i])\n",
    "    if meanTuple > mean:\n",
    "        binarray[i] = 1\n",
    "    else:\n",
    "        binarray[i] = 0\n",
    "        \n",
    "print(log_loss(binarray,nby_pred))"
   ]
  },
  {
   "cell_type": "markdown",
   "id": "870af6d7",
   "metadata": {},
   "source": [
    "## Testing cell"
   ]
  },
  {
   "cell_type": "code",
   "execution_count": 51,
   "id": "572731cf",
   "metadata": {
    "scrolled": false
   },
   "outputs": [
    {
     "name": "stdout",
     "output_type": "stream",
     "text": [
      "922.0\n",
      "938.0\n",
      "234.0\n",
      "621.0\n",
      "352.0\n",
      "833.0\n",
      "915.0\n",
      "1112.0\n",
      "1844.0\n",
      "419.0\n",
      "<class 'dict'>\n"
     ]
    }
   ],
   "source": [
    "wordList = ()\n",
    "\n",
    "abstracts1 = dict()\n",
    "with open('datasets/abstracts.txt', 'r', encoding = 'utf8') as f:\n",
    "    for line in f:\n",
    "        node, abstract = line.split('|--|')\n",
    "        abstracts1[int(node)] = abstract\n",
    "\n",
    "for node in abstracts1:\n",
    "    abstracts1[node] = set(abstracts1[node].split()) \n",
    "\n",
    "# word frequency\n",
    "\n",
    "\n",
    "\"\"\"\n",
    "\n",
    "string = abstracts1[3]\n",
    "str_list = string.split()\n",
    "unique_words = set(str_list)\n",
    "\n",
    "for word in unique_words:\n",
    "    if len(word) >= 3 and len(word) <= 6:\n",
    "        continue\n",
    "        #print(word)\n",
    "\n",
    "# 3 , 2214\n",
    "# 11042 11239\n",
    "\n",
    "#for word in unique_words:\n",
    "    #print('Frequency of ', word , 'is :', str_list.count(word))\n",
    "        \n",
    "#print(abstracts1[3]) \n",
    "\n",
    "\"\"\"\n",
    "for i in range(0,10):\n",
    "    print(X_test[i][6])\n",
    "\n",
    "    \n",
    "#print(abstracts[134761])\n",
    "#for word in authors[2559]:\n",
    "   # word = word.split()\n",
    "   # print(word)\n",
    "#abslist = list(abstracts[0])\n",
    "\n",
    "#print(abstracts[0])\n",
    "#sim5 = model1.wv.most_similar(absSet[1])\n",
    "#print(sim5)\n",
    "#print(authors[2559])\n",
    "#result = abstracts1[134761].intersection(authors[2559])\n",
    "#print(result)\n",
    "# prwta 5 stoixeia tou CSV\n",
    "# 0\t0.976707924\n",
    "# 1\t0.144358737\n",
    "# 2\t0.957898003\n",
    "# 3\t0.192365151\n",
    "# 4\t0.245021383\n",
    "# 5\t0.775259045\n",
    "print(type(abstracts))"
   ]
  },
  {
   "cell_type": "markdown",
   "id": "8e663dd7",
   "metadata": {},
   "source": [
    "## CSV creation "
   ]
  },
  {
   "cell_type": "code",
   "execution_count": 53,
   "id": "ddcdee56",
   "metadata": {},
   "outputs": [],
   "source": [
    "# predict citation\n",
    "\n",
    "y_pred = model.predict_proba(X_test)\n",
    "y_pred = y_pred[:,1]\n",
    "\n",
    "# create csv\n",
    "\n",
    "predictions = zip(range(len(y_pred)), y_pred)\n",
    "with open(\"submission_csv.csv\",\"w\" , newline = '') as pred:\n",
    "    csv_out = csv.writer(pred)\n",
    "    csv_out.writerow(['id','predicted'])\n",
    "    for row in predictions:\n",
    "        csv_out.writerow(row)"
   ]
  },
  {
   "cell_type": "markdown",
   "id": "902eb95d",
   "metadata": {},
   "source": [
    "## local Log Loss Computation"
   ]
  },
  {
   "cell_type": "code",
   "execution_count": 54,
   "id": "d8685745",
   "metadata": {
    "scrolled": false
   },
   "outputs": [
    {
     "name": "stdout",
     "output_type": "stream",
     "text": [
      "1.2950478301189976\n"
     ]
    }
   ],
   "source": [
    "# Log loss computation\n",
    "\n",
    "\n",
    "#binarray = np.zeros((len(X_test),n))\n",
    "binarray = np.zeros(len(X_test))\n",
    "mean = np.mean(X_test)\n",
    "\n",
    "for i in range(0,len(X_test)):\n",
    "    meanTuple = np.mean(X_test[i])\n",
    "    if meanTuple > mean:\n",
    "        binarray[i] = 1\n",
    "    else:\n",
    "        binarray[i] = 0\n",
    "        \n",
    "print(log_loss(binarray,y_pred))"
   ]
  },
  {
   "cell_type": "code",
   "execution_count": null,
   "id": "2e59ee3d",
   "metadata": {},
   "outputs": [],
   "source": []
  }
 ],
 "metadata": {
  "kernelspec": {
   "display_name": "Python 3 (ipykernel)",
   "language": "python",
   "name": "python3"
  },
  "language_info": {
   "codemirror_mode": {
    "name": "ipython",
    "version": 3
   },
   "file_extension": ".py",
   "mimetype": "text/x-python",
   "name": "python",
   "nbconvert_exporter": "python",
   "pygments_lexer": "ipython3",
   "version": "3.7.1"
  }
 },
 "nbformat": 4,
 "nbformat_minor": 5
}
