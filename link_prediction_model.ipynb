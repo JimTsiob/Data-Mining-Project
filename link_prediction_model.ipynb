{
 "cells": [
  {
   "cell_type": "markdown",
   "id": "d4bd7e7b",
   "metadata": {},
   "source": [
    "# Link prediction project for paper citations\n",
    "## Preprocessing\n"
   ]
  },
  {
   "cell_type": "code",
   "execution_count": 35,
   "id": "e7d9cd79",
   "metadata": {},
   "outputs": [],
   "source": [
    "import pandas as pd\n",
    "import numpy as np\n",
    "import networkx as nx\n",
    "from sklearn.model_selection import train_test_split\n",
    "from sklearn.linear_model import LogisticRegression\n",
    "from sklearn.metrics import log_loss \n",
    "import matplotlib.pyplot as plt\n",
    "from sklearn.preprocessing import scale\n",
    "import random as rand\n",
    "import csv\n",
    "from sklearn.utils import shuffle\n",
    "import gensim\n",
    "from gensim.models import Word2Vec\n",
    "from sklearn.naive_bayes import MultinomialNB\n",
    "from sklearn.naive_bayes import BernoulliNB\n",
    "from sklearn.naive_bayes import GaussianNB\n",
    "from sklearn.naive_bayes import CategoricalNB\n",
    "from sklearn.naive_bayes import ComplementNB\n",
    "from collections import Counter\n",
    "from sklearn.ensemble import RandomForestClassifier\n",
    "from sklearn.datasets import make_classification\n",
    "from numpy import savetxt\n",
    "from sklearn.ensemble import HistGradientBoostingClassifier\n",
    "from gensim.models.doc2vec import Doc2Vec,TaggedDocument\n",
    "from gensim.test.utils import get_tmpfile\n",
    "from scipy import spatial"
   ]
  },
  {
   "cell_type": "code",
   "execution_count": 2,
   "id": "2a4f6f89",
   "metadata": {
    "scrolled": true
   },
   "outputs": [
    {
     "name": "stdout",
     "output_type": "stream",
     "text": [
      "   nodes  edges\n",
      "0      0      1\n",
      "1      0      2\n",
      "2      1      3\n",
      "3      1      5\n",
      "4      1      6\n"
     ]
    },
    {
     "data": {
      "text/plain": [
       "False"
      ]
     },
     "execution_count": 2,
     "metadata": {},
     "output_type": "execute_result"
    }
   ],
   "source": [
    "# Data preparation\n",
    "\n",
    "dataset = pd.read_csv('datasets/edgelist.txt', sep = ',' ,header = None)\n",
    "\n",
    "\n",
    "# add names to columns for easier manipulation of data\n",
    "dataset.columns = ['nodes','edges']\n",
    "\n",
    "print(dataset.head())\n",
    "\n",
    "# check for nan values\n",
    "dataset.isnull().values.any()"
   ]
  },
  {
   "cell_type": "markdown",
   "id": "5d514723",
   "metadata": {},
   "source": [
    "### Graph creation and plot"
   ]
  },
  {
   "cell_type": "code",
   "execution_count": 3,
   "id": "65846895",
   "metadata": {
    "scrolled": true
   },
   "outputs": [
    {
     "data": {
      "image/png": "[encoded data removed]",
      "text/plain": [
       "<Figure size 432x288 with 1 Axes>"
      ]
     },
     "metadata": {},
     "output_type": "display_data"
    }
   ],
   "source": [
    "Graph = nx.Graph()\n",
    "\n",
    "# add nodes\n",
    "\n",
    "for x in dataset['nodes']:\n",
    "    Graph.add_node(x)\n",
    "\n",
    "# add edges\n",
    "\n",
    "for x,y in dataset.itertuples(index = False):\n",
    "    Graph.add_edge(x,y)\n",
    "    \n",
    "    \n",
    "\n",
    "# creation of sub graph for plotting \n",
    "\n",
    "subset_data = pd.DataFrame(columns = ['nodes','edges'])\n",
    "\n",
    "subset_data = dataset.head(300)\n",
    "\n",
    "subG = nx.Graph()\n",
    "\n",
    "for x in subset_data['nodes']:\n",
    "    subG.add_node(x)\n",
    "    \n",
    "for x,y in subset_data.itertuples(index = False):\n",
    "    subG.add_edge(x,y)\n",
    "    \n",
    "# plot graph\n",
    "\n",
    "nx.draw(subG)\n",
    "\n",
    "plt.show()"
   ]
  },
  {
   "cell_type": "markdown",
   "id": "bda34995",
   "metadata": {},
   "source": [
    "## Feature Extraction"
   ]
  },
  {
   "cell_type": "code",
   "execution_count": 41,
   "id": "acbe8209",
   "metadata": {},
   "outputs": [
    {
     "name": "stdout",
     "output_type": "stream",
     "text": [
      "Arrays created successfully.\n",
      "12\n",
      "Author graph created successfully.\n"
     ]
    },
    {
     "data": {
      "text/plain": [
       "\"\\ng_emb = n2v(\\n  Graph,\\n  dimensions=16\\n)\\n    \\nmdl = g_emb.fit(\\n    vector_size = 16,\\n    window = 1,\\n    min_count = 1,\\n    batch_words = 4\\n)\\n\\ninput_node = '1'\\nsim = mdl.wv.most_similar(input_node, topn = 10)\\nprint(sim)\\n\""
      ]
     },
     "execution_count": 41,
     "metadata": {},
     "output_type": "execute_result"
    }
   ],
   "source": [
    "m = Graph.number_of_edges()\n",
    "nodeCount = Graph.number_of_nodes()\n",
    "n = 18 # number of features\n",
    "\n",
    "X_train = np.zeros((2*m,n))\n",
    "y_train = np.zeros(2*m)\n",
    "\n",
    "\n",
    "\n",
    "\"\"\"\n",
    "for i in range(0,m):\n",
    "    X_train[i,0] = Graph.degree[dataset['nodes'][i]] # degree of first node\n",
    "    X_train[i,1] = Graph.degree[dataset['edges'][i]] # degree of second node\n",
    "    X_train[i,2] = X[i,0] + X[i,1] # sum of these degrees\n",
    "\n",
    "\n",
    "for i in range(m,2*m): # we take all unconnected pairs for negative sample \n",
    "    X_train[i,0] = 138499 - X[i-m,0] # Graph.degree[dataset['nodes'][rand.randint(0,m-1)]]\n",
    "    X_train[i,1] = 138499 - X[i-m,1] # Graph.degree[dataset['edges'][rand.randint(0,m-1)]]\n",
    "    X_train[i,2] = X[i,0] + X[i,1]\n",
    "\n",
    "\"\"\"\n",
    "\n",
    "# Read the abstract of each paper\n",
    "\n",
    "abstracts = dict()\n",
    "with open('datasets/abstracts.txt', 'r', encoding = 'utf8') as f:\n",
    "    for line in f:\n",
    "        node, abstract = line.split('|--|')\n",
    "        abstracts[int(node)] = abstract\n",
    "        \n",
    "for node in abstracts:\n",
    "    abstracts[node] = set(abstracts[node].split())\n",
    "\n",
    "# Read the authors of each paper\n",
    "\n",
    "authors = dict()\n",
    "with open('datasets/authors.txt', 'r', encoding = 'utf8') as f:\n",
    "    for line in f:\n",
    "        node, author = line.split('|--|')\n",
    "        authors[int(node)] = author        \n",
    "        \n",
    "for node in authors:\n",
    "    authors[node] = authors[node].strip(\"\\n\")\n",
    "    #authors[node] = authors[node].replace(',',' ')\n",
    "    authors[node] = set(authors[node].split(\",\"))\n",
    "    \n",
    "print(\"Arrays created successfully.\")\n",
    "\n",
    "# Author graph creation\n",
    "\n",
    "authorGraph = nx.Graph()\n",
    "\n",
    "\n",
    "\n",
    "for i,edge in enumerate(Graph.edges()):\n",
    "    result = authors[edge[0]].intersection(authors[edge[1]])\n",
    "    \n",
    "    # for word in result: just in case\n",
    "    for word3 in authors[edge[1]]:\n",
    "        authorGraph.add_node(word3)\n",
    "    \n",
    "    for word in authors[edge[0]]:\n",
    "        authorGraph.add_node(word)\n",
    "        if result:\n",
    "            for word2 in authors[edge[1]]:\n",
    "                if word == word2:\n",
    "                    continue\n",
    "                else:\n",
    "                    authorGraph.add_edge(word,word2)\n",
    "                   \n",
    "\n",
    "    \n",
    "        \n",
    "print(authorGraph.degree['Jian-Xun Peng'])\n",
    "\n",
    "print(\"Author graph created successfully.\")\n",
    "\n",
    "\n",
    "authorDeg = np.zeros((m,2))\n",
    "deg0 = 0\n",
    "deg1 = 0\n",
    "\n",
    "for i,edge in enumerate(Graph.edges()):\n",
    "    for word in authors[edge[0]]:\n",
    "        deg0 = authorGraph.degree[word]\n",
    "        authorDeg[i,0] = deg0\n",
    "    for word2 in authors[edge[1]]:\n",
    "        deg1 = authorGraph.degree[word2]\n",
    "        authorDeg[i,1] = deg1\n",
    "    deg0 = 0\n",
    "    deg1 = 0\n",
    "\n",
    "\"\"\"\n",
    "g_emb = n2v(\n",
    "  Graph,\n",
    "  dimensions=16\n",
    ")\n",
    "    \n",
    "mdl = g_emb.fit(\n",
    "    vector_size = 16,\n",
    "    window = 1,\n",
    "    min_count = 1,\n",
    "    batch_words = 4\n",
    ")\n",
    "\n",
    "input_node = '1'\n",
    "sim = mdl.wv.most_similar(input_node, topn = 10)\n",
    "print(sim)\n",
    "\"\"\"    \n",
    "    \n",
    "#for i,edge in enumerate(authorGraph.edges()):\n",
    "    #authorDeg.append(authorGraph.degree[i])\n",
    "    \n",
    "# node2vec testing\n",
    "\n"
   ]
  },
  {
   "cell_type": "markdown",
   "id": "f67f299e",
   "metadata": {},
   "source": [
    "## Helpful functions for creating features"
   ]
  },
  {
   "cell_type": "code",
   "execution_count": 13,
   "id": "0c1fe0db",
   "metadata": {},
   "outputs": [
    {
     "name": "stdout",
     "output_type": "stream",
     "text": [
      "Functions ready.\n"
     ]
    }
   ],
   "source": [
    "# Initialize x_train\n",
    "\n",
    "def initialize_x_train(number_of_edges,list_of_features,mypath):\n",
    "    mypath=mypath\n",
    "    number_of_features=len(list_of_features)\n",
    "    print(\"number_of_edges:\",number_of_edges)\n",
    "    #mul by 2 for the training matrix\n",
    "    x=np.zeros((2*number_of_edges,number_of_features))\n",
    "    for idx,feature in enumerate(list_of_features):\n",
    "        print(\"loading column {} with feature {}\".format(idx,feature))\n",
    "        x[:,idx]=np.genfromtxt(mypath+feature,delimiter=',')\n",
    "    return x\n",
    "\n",
    "# Initialize x_test\n",
    "\n",
    "def initialize_x_test(number_of_edges,list_of_features,mypath):\n",
    "    mypath=mypath\n",
    "    number_of_features=len(list_of_features)\n",
    "    print(\"number_of_edges:\",number_of_edges)\n",
    "    #mul by 1 for the training matrix\n",
    "    x=np.zeros((number_of_edges,number_of_features))\n",
    "    for idx,feature in enumerate(list_of_features):\n",
    "        print(\"loading column {} with feature {}\".format(idx,feature))\n",
    "        x[:,idx]=np.genfromtxt(mypath+feature,delimiter=',')\n",
    "    return x\n",
    "\n",
    "# get feature files for debugging purposes\n",
    "\n",
    "from os import listdir\n",
    "from os.path import isfile,join\n",
    "def get_feature_files(mypath):\n",
    "    mypath=mypath\n",
    "    features_to_include=[feature for feature in listdir(mypath)]\n",
    "    print(\"included features are: \",features_to_include)\n",
    "    return features_to_include\n",
    "\n",
    "print(\"Functions ready.\")"
   ]
  },
  {
   "cell_type": "markdown",
   "id": "2ec36c38",
   "metadata": {},
   "source": [
    "## Doc2vec testing"
   ]
  },
  {
   "cell_type": "code",
   "execution_count": 29,
   "id": "95032080",
   "metadata": {},
   "outputs": [
    {
     "name": "stdout",
     "output_type": "stream",
     "text": [
      "Doc2vec done.\n"
     ]
    }
   ],
   "source": [
    "# Doc2Vec testing\n",
    "\n",
    "documents = [TaggedDocument(abstracts[node], [node]) for node in abstracts]\n",
    "model2 = Doc2Vec(documents, vector_size=5, window=2, min_count=1, workers=4)\n",
    "print(\"Doc2vec done.\")"
   ]
  },
  {
   "cell_type": "code",
   "execution_count": 31,
   "id": "cdf3254e",
   "metadata": {},
   "outputs": [
    {
     "name": "stdout",
     "output_type": "stream",
     "text": [
      "Save done.\n"
     ]
    }
   ],
   "source": [
    "# doc2vec save\n",
    "fname = get_tmpfile(\"doc2vec_model\")\n",
    "\n",
    "model2.save(fname)\n",
    "print(\"Save done.\")"
   ]
  },
  {
   "cell_type": "code",
   "execution_count": 32,
   "id": "e6953a85",
   "metadata": {},
   "outputs": [
    {
     "name": "stdout",
     "output_type": "stream",
     "text": [
      "Load successful.\n"
     ]
    }
   ],
   "source": [
    "# doc2vec load\n",
    "\n",
    "docmodel = Doc2Vec.load(fname)\n",
    "print(\"Load successful.\")"
   ]
  },
  {
   "cell_type": "code",
   "execution_count": 43,
   "id": "795e6b31",
   "metadata": {},
   "outputs": [
    {
     "name": "stdout",
     "output_type": "stream",
     "text": [
      "docarray filled.\n",
      "Testing docarray done\n"
     ]
    }
   ],
   "source": [
    "docArray = np.zeros(2*m)\n",
    "\n",
    "for i,edge in enumerate(Graph.edges()):\n",
    "    docArray[i] = spatial.distance.cosine(docmodel.dv[edge[0]], docmodel.dv[edge[1]])\n",
    "    \n",
    "print(\"docarray filled.\")\n",
    "\n",
    "for i,edge in enumerate(Graph.edges()):\n",
    "    \n",
    "    n1 = rand.randint(0, nodeCount-1)\n",
    "    n2 = rand.randint(0, nodeCount-1)\n",
    "    docArray[m+i] = spatial.distance.cosine(docmodel.dv[n1], docmodel.dv[n2])\n",
    "    \n",
    "node_pairs = list()\n",
    "\n",
    "with open('datasets/test.txt', 'r') as f:\n",
    "    for line in f:\n",
    "        t = line.split(',')\n",
    "        node_pairs.append((int(t[0]), int(t[1])))\n",
    "\n",
    "docArrayTest = np.zeros(len(node_pairs))\n",
    "\n",
    "for i,node_pair in enumerate(node_pairs):\n",
    "    docArrayTest[i] = spatial.distance.cosine(docmodel.dv[node_pair[0]], docmodel.dv[node_pair[1]]) \n",
    "\n",
    "print(\"Testing docarray done\")"
   ]
  },
  {
   "cell_type": "code",
   "execution_count": 44,
   "id": "c14ed59a",
   "metadata": {},
   "outputs": [
    {
     "name": "stdout",
     "output_type": "stream",
     "text": [
      "Doc2vec csvs created\n"
     ]
    }
   ],
   "source": [
    "\n",
    "#doc2vec train\n",
    "savetxt('datasets/features_train/doc2vec.csv',docArray[:],delimiter=',')\n",
    "\n",
    "#doc2vec test\n",
    "savetxt('datasets/features_test/doc2vec_test.csv',docArrayTest[:],delimiter=',')\n",
    "print(\"Doc2vec csvs created\")"
   ]
  },
  {
   "cell_type": "markdown",
   "id": "d60dcf03",
   "metadata": {},
   "source": [
    "## Feature creation"
   ]
  },
  {
   "cell_type": "code",
   "execution_count": 45,
   "id": "fbacd915",
   "metadata": {},
   "outputs": [
    {
     "name": "stdout",
     "output_type": "stream",
     "text": [
      "included features are:  ['abs_degree_difference.csv', 'abs_difference_of_author_graph_degrees.csv', 'abs_diff_average_neighbor_degree.csv', 'abs_diff_clustering.csv', 'abs_diff_degree_centrality.csv', 'abs_diff_pagerank.csv', 'adamic_adar_index.csv', 'authorities_sum.csv', 'author_graph_degrees.csv', 'average_neighbor_degree.csv', 'clustering_sum.csv', 'common_elements_in_abstracts.csv', 'degree_centrality.csv', 'difference_of_abstracts_len.csv', 'doc2vec.csv', 'Graph_degree_sum.csv', 'hubs_sum.csv', 'jaccard_coef.csv', 'len_of_intersection_authors_abstracts.csv', 'pagerank_sum.csv', 'preferential_attachment.csv', 'resource_allocation_index.csv', 'sum_of_abstracts_len.csv']\n",
      "number_of_edges: 1091955\n",
      "loading column 0 with feature abs_degree_difference.csv\n",
      "loading column 1 with feature abs_difference_of_author_graph_degrees.csv\n",
      "loading column 2 with feature abs_diff_average_neighbor_degree.csv\n",
      "loading column 3 with feature abs_diff_clustering.csv\n",
      "loading column 4 with feature abs_diff_degree_centrality.csv\n",
      "loading column 5 with feature abs_diff_pagerank.csv\n",
      "loading column 6 with feature adamic_adar_index.csv\n",
      "loading column 7 with feature authorities_sum.csv\n",
      "loading column 8 with feature author_graph_degrees.csv\n",
      "loading column 9 with feature average_neighbor_degree.csv\n",
      "loading column 10 with feature clustering_sum.csv\n",
      "loading column 11 with feature common_elements_in_abstracts.csv\n",
      "loading column 12 with feature degree_centrality.csv\n",
      "loading column 13 with feature difference_of_abstracts_len.csv\n",
      "loading column 14 with feature doc2vec.csv\n",
      "loading column 15 with feature Graph_degree_sum.csv\n",
      "loading column 16 with feature hubs_sum.csv\n",
      "loading column 17 with feature jaccard_coef.csv\n",
      "loading column 18 with feature len_of_intersection_authors_abstracts.csv\n",
      "loading column 19 with feature pagerank_sum.csv\n",
      "loading column 20 with feature preferential_attachment.csv\n",
      "loading column 21 with feature resource_allocation_index.csv\n",
      "loading column 22 with feature sum_of_abstracts_len.csv\n",
      "included features are:  ['abs_diff_author_graph_degree_test.csv', 'abs_diff_average_neighbor_degree_test.csv', 'abs_diff_clustering_test.csv', 'abs_diff_degree_centrality_test.csv', 'abs_diff_Graph_degree_test.csv', 'abs_diff_pagerank_test.csv', 'adamic_adar_index_test.csv', 'authorities_sum_test.csv', 'author_graph_degree_sum_test.csv', 'average_neighbor_degree_test.csv', 'clustering_sum_test.csv', 'common_elements_in_abstracts_test.csv', 'degree_centrality_test.csv', 'difference_of_abstracts_test.csv', 'doc2vec_test.csv', 'Graph_degree_test.csv', 'hubs_sum_test.csv', 'jaccard_coefficient_test.csv', 'len_authors_intersection_abstracts_test.csv', 'pagerank_sum_test.csv', 'preferential_attachment_test.csv', 'resource_allocation_index_test.csv', 'sum_of_abstracts_len_test.csv']\n",
      "number_of_edges: 106692\n",
      "loading column 0 with feature abs_diff_author_graph_degree_test.csv\n",
      "loading column 1 with feature abs_diff_average_neighbor_degree_test.csv\n",
      "loading column 2 with feature abs_diff_clustering_test.csv\n",
      "loading column 3 with feature abs_diff_degree_centrality_test.csv\n",
      "loading column 4 with feature abs_diff_Graph_degree_test.csv\n",
      "loading column 5 with feature abs_diff_pagerank_test.csv\n",
      "loading column 6 with feature adamic_adar_index_test.csv\n",
      "loading column 7 with feature authorities_sum_test.csv\n",
      "loading column 8 with feature author_graph_degree_sum_test.csv\n",
      "loading column 9 with feature average_neighbor_degree_test.csv\n",
      "loading column 10 with feature clustering_sum_test.csv\n",
      "loading column 11 with feature common_elements_in_abstracts_test.csv\n",
      "loading column 12 with feature degree_centrality_test.csv\n",
      "loading column 13 with feature difference_of_abstracts_test.csv\n",
      "loading column 14 with feature doc2vec_test.csv\n",
      "loading column 15 with feature Graph_degree_test.csv\n",
      "loading column 16 with feature hubs_sum_test.csv\n",
      "loading column 17 with feature jaccard_coefficient_test.csv\n",
      "loading column 18 with feature len_authors_intersection_abstracts_test.csv\n",
      "loading column 19 with feature pagerank_sum_test.csv\n",
      "loading column 20 with feature preferential_attachment_test.csv\n",
      "loading column 21 with feature resource_allocation_index_test.csv\n",
      "loading column 22 with feature sum_of_abstracts_len_test.csv\n",
      "Features created.\n"
     ]
    }
   ],
   "source": [
    "# Features :\n",
    "# (1) sum of number of unique terms of the two nodes' abstracts\n",
    "# (2) absolute value of difference of number of unique terms of the two nodes' abstracts\n",
    "# (3) number of common terms between the abstracts of the two nodes\n",
    "# (4) sum of degrees of graph nodes\n",
    "# (5) absolute value of degrees of graph nodes\n",
    "# (6) Check if an author that exists in the left node's abstract , also exists in the right node's authors list.\n",
    "# (7) Cosine similarity between two abstracts\n",
    "# (8) sum of Author graph degrees\n",
    "# (9) absolute value of difference of author graph degrees.\n",
    "# (10) sum of Hubs from HITS algorithm\n",
    "# (11) sum of Authorities from HITS algorithm\n",
    "# (12) sum of pagerank ranks\n",
    "# (13) absolute value of difference of pagerank ranks\n",
    "# (14) sum of clustering algorithm nodes\n",
    "# (15) absolute value of difference of clustering algorithm nodes\n",
    "# (16) sum of average neighbor degrees\n",
    "# (17) absolute value of difference of average neighbor degrees\n",
    "# (18) sum of Degree centrality values\n",
    "# (19) absolute value of difference of degree centrality values\n",
    "# (20) sum of betweeness centrality values\n",
    "# (21) absolute value of difference of betweeness centrality values\n",
    "\n",
    "\n",
    "# X_train creation\n",
    "\n",
    "mypath='datasets/features_train/'\n",
    "X_train = initialize_x_train(m,get_feature_files(mypath),mypath)\n",
    "\n",
    "# Y_Train creation\n",
    "\n",
    "y_train = np.genfromtxt('datasets/Y_train.csv',delimiter=',')\n",
    "\n",
    "# shuffle elements\n",
    "\n",
    "X_train_m,y_train_m=shuffle(X_train,y_train)\n",
    "\n",
    "# X_test creation\n",
    "\n",
    "node_pairs = list()\n",
    "\n",
    "with open('datasets/test.txt', 'r') as f:\n",
    "    for line in f:\n",
    "        t = line.split(',')\n",
    "        node_pairs.append((int(t[0]), int(t[1])))\n",
    "\n",
    "mypath = 'datasets/features_test/'\n",
    "X_test = initialize_x_test(len(node_pairs),get_feature_files(mypath),mypath)\n",
    "\n",
    "print(\"Features created.\")\n"
   ]
  },
  {
   "cell_type": "markdown",
   "id": "ecdd848c",
   "metadata": {},
   "source": [
    "## Logistic Regression model\n",
    "### this cell runs the LR model "
   ]
  },
  {
   "cell_type": "code",
   "execution_count": 46,
   "id": "ee39ea71",
   "metadata": {},
   "outputs": [
    {
     "name": "stdout",
     "output_type": "stream",
     "text": [
      "Model fitted successfully.\n"
     ]
    }
   ],
   "source": [
    "# Testing Logistic Regression model\n",
    "\n",
    "lr = LogisticRegression(solver='liblinear',C=10.0,random_state=0)\n",
    "\n",
    "model = lr.fit(X_train,y_train)\n",
    "\n",
    "print(\"Model fitted successfully.\")"
   ]
  },
  {
   "cell_type": "markdown",
   "id": "2da129c8",
   "metadata": {},
   "source": [
    "## HIST Gradient Booster"
   ]
  },
  {
   "cell_type": "code",
   "execution_count": 26,
   "id": "134d8752",
   "metadata": {},
   "outputs": [
    {
     "name": "stdout",
     "output_type": "stream",
     "text": [
      "HIST Gradient booster complete.\n"
     ]
    }
   ],
   "source": [
    "# Testing HIST Gradient booster\n",
    "\n",
    "HISTmodel = HistGradientBoostingClassifier().fit(X_train, y_train)\n",
    "                                        \n",
    "hist_pred = HISTmodel.predict_proba(X_test)\n",
    "hist_pred = hist_pred[:,1]\n",
    "\n",
    "# RF CSV Creation\n",
    "predictions = zip(range(len(hist_pred)), hist_pred)\n",
    "with open(\"submission_HIST_csv.csv\",\"w\" , newline = '') as pred:\n",
    "    csv_out = csv.writer(pred)\n",
    "    csv_out.writerow(['id','predicted'])\n",
    "    for row in predictions:\n",
    "        csv_out.writerow(row)\n",
    "\n",
    "print(\"HIST Gradient booster complete.\")   "
   ]
  },
  {
   "cell_type": "markdown",
   "id": "1b50edc5",
   "metadata": {},
   "source": [
    "## Feature arrays for saving \n",
    "### this cell is used to create fake X_train , X_test in order to obtain csv files for features\n"
   ]
  },
  {
   "cell_type": "code",
   "execution_count": 11,
   "id": "527b03d6",
   "metadata": {
    "scrolled": true
   },
   "outputs": [
    {
     "ename": "IndexError",
     "evalue": "index 15 is out of bounds for axis 1 with size 15",
     "output_type": "error",
     "traceback": [
      "\u001b[1;31m---------------------------------------------------------------------------\u001b[0m",
      "\u001b[1;31mIndexError\u001b[0m                                Traceback (most recent call last)",
      "\u001b[1;32m~\\AppData\\Local\\Temp/ipykernel_5828/1933769929.py\u001b[0m in \u001b[0;36m<module>\u001b[1;34m\u001b[0m\n\u001b[0;32m    109\u001b[0m     \u001b[0mX_train\u001b[0m\u001b[1;33m[\u001b[0m\u001b[0mi\u001b[0m\u001b[1;33m,\u001b[0m\u001b[1;36m13\u001b[0m\u001b[1;33m]\u001b[0m \u001b[1;33m=\u001b[0m \u001b[0mabs\u001b[0m\u001b[1;33m(\u001b[0m\u001b[0mclusterDict\u001b[0m\u001b[1;33m[\u001b[0m\u001b[0medge\u001b[0m\u001b[1;33m[\u001b[0m\u001b[1;36m0\u001b[0m\u001b[1;33m]\u001b[0m\u001b[1;33m]\u001b[0m \u001b[1;33m-\u001b[0m \u001b[0mclusterDict\u001b[0m\u001b[1;33m[\u001b[0m\u001b[0medge\u001b[0m\u001b[1;33m[\u001b[0m\u001b[1;36m1\u001b[0m\u001b[1;33m]\u001b[0m\u001b[1;33m]\u001b[0m\u001b[1;33m)\u001b[0m\u001b[1;33m\u001b[0m\u001b[1;33m\u001b[0m\u001b[0m\n\u001b[0;32m    110\u001b[0m     \u001b[0mX_train\u001b[0m\u001b[1;33m[\u001b[0m\u001b[0mi\u001b[0m\u001b[1;33m,\u001b[0m\u001b[1;36m14\u001b[0m\u001b[1;33m]\u001b[0m \u001b[1;33m=\u001b[0m \u001b[0mANDdict\u001b[0m\u001b[1;33m[\u001b[0m\u001b[0medge\u001b[0m\u001b[1;33m[\u001b[0m\u001b[1;36m0\u001b[0m\u001b[1;33m]\u001b[0m\u001b[1;33m]\u001b[0m \u001b[1;33m+\u001b[0m \u001b[0mANDdict\u001b[0m\u001b[1;33m[\u001b[0m\u001b[0medge\u001b[0m\u001b[1;33m[\u001b[0m\u001b[1;36m1\u001b[0m\u001b[1;33m]\u001b[0m\u001b[1;33m]\u001b[0m\u001b[1;33m\u001b[0m\u001b[1;33m\u001b[0m\u001b[0m\n\u001b[1;32m--> 111\u001b[1;33m     \u001b[0mX_train\u001b[0m\u001b[1;33m[\u001b[0m\u001b[0mi\u001b[0m\u001b[1;33m,\u001b[0m\u001b[1;36m15\u001b[0m\u001b[1;33m]\u001b[0m \u001b[1;33m=\u001b[0m \u001b[0mabs\u001b[0m\u001b[1;33m(\u001b[0m\u001b[0mANDdict\u001b[0m\u001b[1;33m[\u001b[0m\u001b[0medge\u001b[0m\u001b[1;33m[\u001b[0m\u001b[1;36m0\u001b[0m\u001b[1;33m]\u001b[0m\u001b[1;33m]\u001b[0m \u001b[1;33m-\u001b[0m \u001b[0mANDdict\u001b[0m\u001b[1;33m[\u001b[0m\u001b[0medge\u001b[0m\u001b[1;33m[\u001b[0m\u001b[1;36m1\u001b[0m\u001b[1;33m]\u001b[0m\u001b[1;33m]\u001b[0m\u001b[1;33m)\u001b[0m\u001b[1;33m\u001b[0m\u001b[1;33m\u001b[0m\u001b[0m\n\u001b[0m\u001b[0;32m    112\u001b[0m     \u001b[0mX_train\u001b[0m\u001b[1;33m[\u001b[0m\u001b[0mi\u001b[0m\u001b[1;33m,\u001b[0m\u001b[1;36m16\u001b[0m\u001b[1;33m]\u001b[0m \u001b[1;33m=\u001b[0m \u001b[0mDCDict\u001b[0m\u001b[1;33m[\u001b[0m\u001b[0medge\u001b[0m\u001b[1;33m[\u001b[0m\u001b[1;36m0\u001b[0m\u001b[1;33m]\u001b[0m\u001b[1;33m]\u001b[0m \u001b[1;33m+\u001b[0m \u001b[0mDCDict\u001b[0m\u001b[1;33m[\u001b[0m\u001b[0medge\u001b[0m\u001b[1;33m[\u001b[0m\u001b[1;36m1\u001b[0m\u001b[1;33m]\u001b[0m\u001b[1;33m]\u001b[0m\u001b[1;33m\u001b[0m\u001b[1;33m\u001b[0m\u001b[0m\n\u001b[0;32m    113\u001b[0m     \u001b[0mX_train\u001b[0m\u001b[1;33m[\u001b[0m\u001b[0mi\u001b[0m\u001b[1;33m,\u001b[0m\u001b[1;36m17\u001b[0m\u001b[1;33m]\u001b[0m \u001b[1;33m=\u001b[0m \u001b[0mabs\u001b[0m\u001b[1;33m(\u001b[0m\u001b[0mDCDict\u001b[0m\u001b[1;33m[\u001b[0m\u001b[0medge\u001b[0m\u001b[1;33m[\u001b[0m\u001b[1;36m0\u001b[0m\u001b[1;33m]\u001b[0m\u001b[1;33m]\u001b[0m \u001b[1;33m-\u001b[0m \u001b[0mDCDict\u001b[0m\u001b[1;33m[\u001b[0m\u001b[0medge\u001b[0m\u001b[1;33m[\u001b[0m\u001b[1;36m1\u001b[0m\u001b[1;33m]\u001b[0m\u001b[1;33m]\u001b[0m\u001b[1;33m)\u001b[0m\u001b[1;33m\u001b[0m\u001b[1;33m\u001b[0m\u001b[0m\n",
      "\u001b[1;31mIndexError\u001b[0m: index 15 is out of bounds for axis 1 with size 15"
     ]
    }
   ],
   "source": [
    "# kapws na vrw : len(abstracts[edge[0]].intersection(authors[edge[1]]))    \n",
    "   \n",
    "# possible feature : CBOW model me vectors abstract[edge[0]] kai abstract[edge[1]] px , pairnoume\n",
    "# to cosine similarity ws feature sto Xtrain.\n",
    "    \n",
    "\n",
    "\n",
    "\n",
    "sim = 0\n",
    "sim2 = 0\n",
    "sim3 = 0\n",
    "authorNodeCount = authorGraph.number_of_nodes()\n",
    "\n",
    "#absSet = list(map(list,abstracts.values()))\n",
    "    \n",
    "#model1 = Word2Vec(absSet,min_count = 1, vector_size = 100)\n",
    "#sim4 = model1.wv.most_similar(positive = absSet[0])\n",
    "\n",
    "\n",
    "# Jaccard coefficient\n",
    "\n",
    "#jc = list(nx.jaccard_coefficient(Graph))\n",
    "#print(jc[2])\n",
    "\n",
    "# HITS algorithm\n",
    "\n",
    "\n",
    "hubs, authorities = nx.hits(Graph, max_iter = 50, normalized = True)\n",
    "authHubs, authAuthorities = nx.hits(authorGraph , max_iter = 50 , normalized = True)\n",
    "\n",
    "#print(\"Hub Scores: \", hubs)\n",
    "#print(\"Authority Scores: \", authorities)\n",
    "\n",
    "#PageRank algorithm\n",
    "\n",
    "pr = nx.pagerank(Graph, alpha=0.9)\n",
    "\n",
    "# CLustering algorithm\n",
    "\n",
    "clusterDict = nx.clustering(Graph)\n",
    "\n",
    "# Average neighbor degree\n",
    "ANDdict = nx.average_neighbor_degree(Graph)\n",
    "\n",
    "# common neighbor centrality\n",
    "#cncDict = nx.common_neighbor_centrality(Graph)\n",
    "#print(cncDict[0])\n",
    "\n",
    "# degree centrality\n",
    "DCDict = nx.degree_centrality(Graph)\n",
    "\n",
    "# betweeness centrality\n",
    "#BC = nx.betweenness_centrality(Graph)\n",
    "\n",
    "# edge betweeness centrality\n",
    "#EBC = nx.edge_betweenness_centrality(Graph)\n",
    "\n",
    "# eigenvector centrality\n",
    "#ECDict = nx.eigenvector_centrality(Graph)\n",
    "\n",
    "# Shortest path\n",
    "#sp = nx.shortest_path(Graph)\n",
    "\n",
    "# katz centrality\n",
    "#katz = nx.katz_centrality(Graph)\n",
    "\n",
    "\n",
    "\"\"\"\n",
    "for i,edge in enumerate(Graph.edges()):\n",
    "    # CBOW testing\n",
    "    #abslist0 = list(abstracts[edge[0]])\n",
    "    #abslist1 = list(abstracts[edge[1]])\n",
    "    \n",
    "    if len(abstracts[edge[0]]) == 0 or len(abstracts[edge[1]]) == 0:\n",
    "        continue\n",
    "    else:\n",
    "        #model1 = Word2Vec(abstracts[edge[0]], min_count = 1,vector_size = 10)\n",
    "        sim = model1.wv.n_similarity(abstracts[edge[0]],abstracts[edge[1]])\n",
    "\n",
    "    simContainer.append(sim)\n",
    "\"\"\"\n",
    "\n",
    "\n",
    "for i,edge in enumerate(Graph.edges()):\n",
    "    \n",
    "    # CBOW testing\n",
    "    \"\"\"\n",
    "    if len(abstracts[edge[0]]) == 0 or len(abstracts[edge[1]]) == 0:\n",
    "        continue\n",
    "    else:\n",
    "        #model1 = Word2Vec(abstracts[edge[0]], min_count = 1,vector_size = 10)\n",
    "        sim = model1.wv.n_similarity(abstracts[edge[0]],abstracts[edge[1]])\n",
    "    \"\"\"\n",
    "    \n",
    "    # an edge\n",
    "    X_train[i,0] = len(abstracts[edge[0]]) + len(abstracts[edge[1]])\n",
    "    X_train[i,1] = abs(len(abstracts[edge[0]]) - len(abstracts[edge[1]]))\n",
    "    X_train[i,2] = len(abstracts[edge[0]].intersection(abstracts[edge[1]]))\n",
    "    X_train[i,3] = Graph.degree[edge[0]] + Graph.degree[edge[1]]\n",
    "    X_train[i,4] = abs(Graph.degree[edge[0]] - Graph.degree[edge[1]])\n",
    "    X_train[i,5] = len(authors[edge[0]].intersection(abstracts[edge[1]]))\n",
    "    X_train[i,6] = authorDeg[i,0] + authorDeg[i,1]\n",
    "    X_train[i,7] = abs(authorDeg[i,0] - authorDeg[i,1])\n",
    "    X_train[i,8] = hubs[edge[0]] + hubs[edge[1]]\n",
    "    X_train[i,9] = authorities[edge[0]] + authorities[edge[1]]\n",
    "    X_train[i,10] = pr[edge[0]] + pr[edge[1]]\n",
    "    X_train[i,11] = abs(pr[edge[0]] - pr[edge[1]])\n",
    "    X_train[i,12] = clusterDict[edge[0]] + clusterDict[edge[1]]\n",
    "    X_train[i,13] = abs(clusterDict[edge[0]] - clusterDict[edge[1]])\n",
    "    X_train[i,14] = ANDdict[edge[0]] + ANDdict[edge[1]]\n",
    "    X_train[i,15] = abs(ANDdict[edge[0]] - ANDdict[edge[1]])\n",
    "    X_train[i,16] = DCDict[edge[0]] + DCDict[edge[1]]\n",
    "    X_train[i,17] = abs(DCDict[edge[0]] - DCDict[edge[1]])\n",
    "    #X_train[i,18] = sp[edge[0]] + sp[edge[1]]\n",
    "    #X_train[i,19] = abs(sp[edge[0]] - sp[edge[1]])\n",
    "    #X_train[i,18] = BC[edge[0]] + BC[edge[1]]\n",
    "    #X_train[i,19] = abs(BC[edge[0]] - BC[edge[1]])\n",
    "    #X_train[i,20] =  #katz[edge[0]] + katz[edge[1]]\n",
    "    #X_train[i,21] = #abs(katz[edge[0]] - katz[edge[1]])\n",
    "    \n",
    "    \n",
    "    #X_train[i,10] = authHubs[edge[0]] + authHubs[edge[1]]\n",
    "    #X_train[i,11] = authAuthorities[edge[0]] + authAuthorities[edge[1]]\n",
    "    #X_train[i,10] = abs((hubs[edge[0]] + authorities[edge[0]]) - (hubs[edge[1]] + authorities[edge[1]])) \n",
    "    #X_train[i,10] = hubs[edge[0]] + authorities[edge[1]] #abs(hubs[edge[0]] - hubs[edge[1]])\n",
    "    #X_train[i,11] = abs(hubs[edge[0]] - authorities[edge[1]]) #abs(authorities[edge[0]] - authorities[edge[1]])\n",
    "    \n",
    "    #X_train[i,6] = sim\n",
    "    \n",
    "    y_train[i] = 1\n",
    "\n",
    "\n",
    "for i,edge in enumerate(Graph.edges()):\n",
    "    # a randomly generated pair of nodes\n",
    "    \n",
    "    n1 = rand.randint(0, nodeCount-1)\n",
    "    n2 = rand.randint(0, nodeCount-1)\n",
    "    \"\"\"\n",
    "    randabslist0 = list(abstracts[n1])\n",
    "    randabslist1 = list(abstracts[n2])\n",
    "    if len(abstracts[n1]) == 0 or len(abstracts[n2]) == 0:\n",
    "        continue\n",
    "    else:\n",
    "        #model2 = gensim.models.Word2Vec(abstracts[n1], min_count = 1,vector_size = 100, window = 5)\n",
    "        sim2 = model1.wv.n_similarity(abstracts[n1],abstracts[n2])\n",
    "    \"\"\"\n",
    "    \n",
    "\n",
    "    X_train[m+i,0] = len(abstracts[n1]) + len(abstracts[n2])\n",
    "    X_train[m+i,1] = abs(len(abstracts[n1]) - len(abstracts[n2]))\n",
    "    X_train[m+i,2] = len(abstracts[n1].intersection(abstracts[n2]))\n",
    "    X_train[m+i,3] = Graph.degree[n1] + Graph.degree[n2]\n",
    "    X_train[m+i,4] = abs(Graph.degree[n1] - Graph.degree[n2])\n",
    "    X_train[m+i,5] = len(authors[n1].intersection(abstracts[n2]))\n",
    "    X_train[m+i,6] = authorDeg[n1,0] + authorDeg[n2,1]\n",
    "    X_train[m+i,7] = abs(authorDeg[n1,0] - authorDeg[n2,1])\n",
    "    X_train[m+i,8] = hubs[n1] + hubs[n2]\n",
    "    X_train[m+i,9] = authorities[n1] + authorities[n2]\n",
    "    X_train[m+i,10] = pr[n1] + pr[n2]\n",
    "    X_train[m+i,11] = abs(pr[n1] - pr[n2])\n",
    "    X_train[m+i,12] = clusterDict[n1] + clusterDict[n2]\n",
    "    X_train[m+i,13] = abs(clusterDict[n1] - clusterDict[n2])\n",
    "    X_train[m+i,14] = ANDdict[n1] + ANDdict[n2]\n",
    "    X_train[m+i,15] = abs(ANDdict[n1] - ANDdict[n2])\n",
    "    X_train[m+i,16] = DCDict[n1] + DCDict[n2]\n",
    "    X_train[m+i,17] = abs(DCDict[n1] - DCDict[n2])\n",
    "    #X_train[m+i,18] = sp[n1] + sp[n2]\n",
    "    #X_train[m+i,19] = abs(sp[n1] - sp[n2])\n",
    "    #X_train[m+i,18] = BC[n1] + BC[n2] #ECDict[n1] + ECDict[n2]\n",
    "    #X_train[m+i,19] = abs(BC[n1] - BC[n2])#abs(ECDict[n1] - ECDict[n2])\n",
    "    #X_train[m+i,20] = #katz[n1] + katz[n2]\n",
    "   # X_train[m+i,21] = #abs(katz[n1] - katz[n2])\n",
    "    \n",
    "    \n",
    "    #X_train[m+i,10] = authHubs[n1] + authHubs[n2]\n",
    "    #X_train[m+i,11] = authAuthorities[n1] + authAuthorities[n2]\n",
    "    #X_train[m+1,10] = abs((hubs[n1] + authorities[n1]) - (hubs[n2] + authorities[n2])) \n",
    "    #X_train[m+i,10] = hubs[n1] + authorities[n2] #abs(hubs[n1] - hubs[n2])\n",
    "    #X_train[m+i,11] = abs(hubs[n1] - authorities[n2]) #abs(authorities[n1] - authorities[n2])\n",
    "    #X_train[m+i,6] = sim2\n",
    "    \n",
    "    y_train[m+i] = 0\n",
    "    \n",
    "    \n",
    "\n",
    "print(\"Training done.\")\n",
    "    \n",
    "\n",
    "\"\"\"\n",
    "for i,edge in enumerate(authorGraph.edges()):\n",
    "    # a randomly generated pair of nodes\n",
    "    \n",
    "    n1 = rand.randint(0, authorNodeCount-1)\n",
    "    n2 = rand.randint(0, authorNodeCount-1)\n",
    "    \n",
    "    X_train[m+i,6] = authorGraph.degree[n1] + authorGraph.degree[n2]\n",
    "    X_train[m+i,7] = abs(authorGraph.degree[n1] - authorGraph.degree[n2])\n",
    "\"\"\"    \n",
    "\n",
    "# print(degreeArr[abstracts.get(edge[0])])\n",
    "# 276998 <- 2 * number of nodes\n",
    "# 221598 80% training data\n",
    "# 55400 20% testing data\n",
    "        \n",
    "        \n",
    "# use test pairs as X_test data\n",
    "\n",
    "node_pairs = list()\n",
    "\n",
    "with open('datasets/test.txt', 'r') as f:\n",
    "    for line in f:\n",
    "        t = line.split(',')\n",
    "        node_pairs.append((int(t[0]), int(t[1])))\n",
    "\n",
    "        \n",
    "\n",
    "X_test = np.zeros((len(node_pairs), n))\n",
    "\n",
    "for i,node_pair in enumerate(node_pairs):\n",
    "    \"\"\"\n",
    "    pairAbsList0 = list(abstracts[node_pair[0]])\n",
    "    pairAbsList1 = list(abstracts[node_pair[1]])\n",
    "    \n",
    "    if len(abstracts[node_pair[0]]) == 0 or len(abstracts[node_pair[1]]) == 0:\n",
    "        continue\n",
    "    else:\n",
    "        #model3 = gensim.models.Word2Vec(pairAbsList0, min_count = 1,vector_size = 100, window = 5)\n",
    "        sim3 = model3.wv.n_similarity(abstracts[node_pair[0]],abstracts[node_pair[1]])\n",
    "    \"\"\"\n",
    "    \n",
    "    X_test[i,0] = len(abstracts[node_pair[0]]) + len(abstracts[node_pair[1]])\n",
    "    X_test[i,1] = abs(len(abstracts[node_pair[0]]) - len(abstracts[node_pair[1]]))\n",
    "    X_test[i,2] = len(abstracts[node_pair[0]].intersection(abstracts[node_pair[1]]))\n",
    "    X_test[i,3] = Graph.degree[node_pair[0]] + Graph.degree[node_pair[1]]\n",
    "    X_test[i,4] = abs(Graph.degree[node_pair[0]] - Graph.degree[node_pair[1]])\n",
    "    X_test[i,5] = len(authors[node_pair[0]].intersection(abstracts[node_pair[1]]))\n",
    "    X_test[i,6] = authorDeg[node_pair[0],0] + authorDeg[node_pair[1],1]\n",
    "    X_test[i,7] = abs(authorDeg[node_pair[0],0] - authorDeg[node_pair[1],1])\n",
    "    X_test[i,8] = hubs[node_pair[0]] + hubs[node_pair[1]]\n",
    "    X_test[i,9] = authorities[node_pair[0]] + authorities[node_pair[1]]\n",
    "    X_test[i,10] = pr[node_pair[0]] + pr[node_pair[1]]\n",
    "    X_test[i,11] = abs(pr[node_pair[0]] - pr[node_pair[1]])\n",
    "    X_test[i,12] = clusterDict[node_pair[0]] + clusterDict[node_pair[1]]\n",
    "    X_test[i,13] = abs(clusterDict[node_pair[0]] - clusterDict[node_pair[1]])\n",
    "    X_test[i,14] = ANDdict[node_pair[0]] + ANDdict[node_pair[1]]\n",
    "    X_test[i,15] = abs(ANDdict[node_pair[0]] - ANDdict[node_pair[1]])\n",
    "    X_test[i,16] = DCDict[node_pair[0]] + DCDict[node_pair[1]]\n",
    "    X_test[i,17] = abs(DCDict[node_pair[0]] - DCDict[node_pair[1]])\n",
    "    #X_test[i,18] = sp[node_pair[0]] + sp[node_pair[1]]\n",
    "    #X_test[i,19] = abs(sp[node_pair[0]] - sp[node_pair[1]])\n",
    "    #X_test[i,18] = BC[node_pair[0]]  + BC[node_pair[1]] #ECDict[node_pair[0]] + ECDict[node_pair[1]]\n",
    "    #X_test[i,19] = abs(BC[node_pair[0]] - BC[node_pair[1]]) #abs(ECDict[node_pair[0]] - ECDict[node_pair[1]])\n",
    "    #X_test[i,20] = #katz[node_pair[0]] + katz[node_pair[1]]\n",
    "    #X_test[i,21] = #abs(katz[node_pair[0]] - katz[node_pair[1]])\n",
    "    \n",
    "    #X_train[i,10] = authHubs[node_pair[0]] + authHubs[node_pair[1]]\n",
    "    #X_train[i,11] = authAuthorities[node_pair[0]] + authAuthorities[node_pair[1]]\n",
    "    #X_test[i,10] = abs((hubs[node_pair[0]] + authorities[node_pair[0]]) - (hubs[node_pair[1]] + authorities[node_pair[1]])) \n",
    "    #X_test[i,10] = hubs[node_pair[0]] + authorities[node_pair[1]]#abs(hubs[node_pair[0]] - hubs[node_pair[1]])\n",
    "    #X_test[i,11] = abs(hubs[node_pair[0]] - authorities[node_pair[1]])#abs(authorities[node_pair[0]] - authorities[node_pair[1]])\n",
    "    #X_test[i,6] = sim3 abs((hubs[edge[0]] + authorities[edge[0]]) - (hubs[edge[1]] + authorities[edge[1]])) \n",
    "    \n",
    "    \n",
    "print(\"Test done.\")\n",
    "    \n",
    "    \n",
    "\"\"\"\n",
    "for i,edge in enumerate(authorGraph.edges()):\n",
    "    X_test[i,6] = authorGraph.degree[node_pair[0]] + authorGraph.degree[node_pair[1]]\n",
    "    X_test[i,7] = abs(authorGraph.degree[node_pair[0]] - authorGraph.degree[node_pair[1]]) \n",
    "\"\"\"   \n",
    "\n",
    "# shuffle train data\n",
    "\n",
    "X_train, y_train = shuffle(X_train, y_train)\n",
    "    \n",
    "# Testing Logistic Regression model\n",
    "\n",
    "lr = LogisticRegression(solver='liblinear',C=10.0,random_state=0)\n",
    "\n",
    "model = lr.fit(X_train,y_train)\n",
    "\n",
    "print(\"Model fitted successfully.\")"
   ]
  },
  {
   "cell_type": "markdown",
   "id": "20cfc73f",
   "metadata": {},
   "source": [
    "## Feature saving"
   ]
  },
  {
   "cell_type": "code",
   "execution_count": 6,
   "id": "539805ec",
   "metadata": {},
   "outputs": [
    {
     "name": "stdout",
     "output_type": "stream",
     "text": [
      "Training features saved.\n",
      "Test features saved.\n"
     ]
    }
   ],
   "source": [
    "# Feature saving\n",
    "# Train features\n",
    "\n",
    "savetxt('datasets/features_train/Graph_degree_sum.csv',X_train[:,3],delimiter=',')\n",
    "savetxt('datasets/features_train/abs_degree_difference.csv',X_train[:,4],delimiter=',')\n",
    "savetxt('datasets/features_train/len_of_intersection_authors_abstracts.csv',X_train[:,5],delimiter=',')\n",
    "savetxt('datasets/features_train/author_graph_degrees.csv',X_train[:,6],delimiter=',')\n",
    "savetxt('datasets/features_train/abs_difference_of_author_graph_degrees.csv',X_train[:,7],delimiter=',')\n",
    "savetxt('datasets/features_train/hubs_sum.csv',X_train[:,8],delimiter=',')\n",
    "savetxt('datasets/features_train/authorities_sum.csv',X_train[:,9],delimiter=',')\n",
    "savetxt('datasets/features_train/pagerank_sum.csv',X_train[:,10],delimiter=',')\n",
    "savetxt('datasets/features_train/abs_diff_pagerank.csv',X_train[:,11],delimiter=',')\n",
    "savetxt('datasets/features_train/clustering_sum.csv',X_train[:,12],delimiter=',')\n",
    "savetxt('datasets/features_train/abs_diff_clustering.csv',X_train[:,13],delimiter=',')\n",
    "savetxt('datasets/features_train/average_neighbor_degree.csv',X_train[:,14],delimiter=',')\n",
    "savetxt('datasets/features_train/abs_diff_average_neighbor_degree.csv',X_train[:,15],delimiter=',')\n",
    "savetxt('datasets/features_train/degree_centrality.csv',X_train[:,16],delimiter=',')\n",
    "savetxt('datasets/features_train/abs_diff_degree_centrality.csv',X_train[:,17],delimiter=',')\n",
    "\n",
    "print(\"Training features saved.\")\n",
    "\n",
    "# Test features\n",
    "\n",
    "savetxt('datasets/features_test/Graph_degree_test.csv',X_test[:,3],delimiter=',')\n",
    "savetxt('datasets/features_test/abs_diff_Graph_degree_test.csv',X_test[:,4],delimiter=',')\n",
    "savetxt('datasets/features_test/len_authors_intersection_abstracts_test.csv',X_test[:,5],delimiter=',')\n",
    "savetxt('datasets/features_test/author_graph_degree_sum_test.csv',X_test[:,6],delimiter=',')\n",
    "savetxt('datasets/features_test/abs_diff_author_graph_degree_test.csv',X_test[:,7],delimiter=',')\n",
    "savetxt('datasets/features_test/hubs_sum_test.csv',X_test[:,8],delimiter=',')\n",
    "savetxt('datasets/features_test/authorities_sum_test.csv',X_test[:,9],delimiter=',')\n",
    "savetxt('datasets/features_test/pagerank_sum_test.csv',X_test[:,10],delimiter=',')\n",
    "savetxt('datasets/features_test/abs_diff_pagerank_test.csv',X_test[:,11],delimiter=',')\n",
    "savetxt('datasets/features_test/clustering_sum_test.csv',X_test[:,12],delimiter=',')\n",
    "savetxt('datasets/features_test/abs_diff_clustering_test.csv',X_test[:,13],delimiter=',')\n",
    "savetxt('datasets/features_test/average_neighbor_degree_test.csv',X_test[:,14],delimiter=',')\n",
    "savetxt('datasets/features_test/abs_diff_average_neighbor_degree_test.csv',X_test[:,15],delimiter=',')\n",
    "savetxt('datasets/features_test/degree_centrality_test.csv',X_test[:,16],delimiter=',')\n",
    "savetxt('datasets/features_test/abs_diff_degree_centrality_test.csv',X_test[:,17],delimiter=',')\n",
    "\n",
    "print(\"Test features saved.\")"
   ]
  },
  {
   "cell_type": "markdown",
   "id": "b6c2d6bd",
   "metadata": {},
   "source": [
    "## Naive Bayes Classifier"
   ]
  },
  {
   "cell_type": "code",
   "execution_count": 11,
   "id": "edd39397",
   "metadata": {
    "scrolled": true
   },
   "outputs": [
    {
     "name": "stdout",
     "output_type": "stream",
     "text": [
      "(106692, 2)\n",
      "0.9800480186183853\n"
     ]
    }
   ],
   "source": [
    "# Naive Bayes Classifier model\n",
    "# at this point best NB is the Categorical one with 0.52 log loss\n",
    "\n",
    "NB = CategoricalNB()\n",
    "NBmodel = NB.fit(X_train,y_train)\n",
    "\n",
    "nby_pred = NBmodel.predict_proba(X_test)\n",
    "#for i in range(0,10):\n",
    "   # print(nby_pred)\n",
    "print(nby_pred.shape)\n",
    "nby_pred = nby_pred[:,1]\n",
    "\n",
    "# NB CSV creation\n",
    "\n",
    "predictions = zip(range(len(nby_pred)), nby_pred)\n",
    "with open(\"submission_NB_csv.csv\",\"w\" , newline = '') as pred:\n",
    "    csv_out = csv.writer(pred)\n",
    "    csv_out.writerow(['id','predicted'])\n",
    "    for row in predictions:\n",
    "        csv_out.writerow(row)\n",
    "        \n",
    "\n",
    "binarray = np.zeros(len(X_test))\n",
    "mean = np.mean(X_test)\n",
    "\n",
    "for i in range(0,len(X_test)):\n",
    "    meanTuple = np.mean(X_test[i])\n",
    "    if meanTuple > mean:\n",
    "        binarray[i] = 1\n",
    "    else:\n",
    "        binarray[i] = 0\n",
    "        \n",
    "print(log_loss(binarray,nby_pred))"
   ]
  },
  {
   "cell_type": "markdown",
   "id": "59fe8b06",
   "metadata": {},
   "source": [
    "## Random Forest Classifier"
   ]
  },
  {
   "cell_type": "code",
   "execution_count": 37,
   "id": "abf69abd",
   "metadata": {},
   "outputs": [
    {
     "name": "stdout",
     "output_type": "stream",
     "text": [
      "Random Forest complete.\n"
     ]
    }
   ],
   "source": [
    "# 51 % log loss\n",
    "\n",
    "RF = RandomForestClassifier(max_depth=2, random_state=0)\n",
    "RFmodel = RF.fit(X_train,y_train)\n",
    "\n",
    "rf_pred = RFmodel.predict_proba(X_test)\n",
    "rf_pred = rf_pred[:,1]\n",
    "\n",
    "# RF CSV Creation\n",
    "predictions = zip(range(len(rf_pred)), rf_pred)\n",
    "with open(\"submission_RF_csv.csv\",\"w\" , newline = '') as pred:\n",
    "    csv_out = csv.writer(pred)\n",
    "    csv_out.writerow(['id','predicted'])\n",
    "    for row in predictions:\n",
    "        csv_out.writerow(row)\n",
    "\n",
    "print(\"Random Forest complete.\")   "
   ]
  },
  {
   "cell_type": "markdown",
   "id": "870af6d7",
   "metadata": {},
   "source": [
    "## Testing cell"
   ]
  },
  {
   "cell_type": "code",
   "execution_count": 39,
   "id": "572731cf",
   "metadata": {
    "scrolled": true
   },
   "outputs": [
    {
     "name": "stdout",
     "output_type": "stream",
     "text": [
      "12\n",
      "12\n",
      "12\n",
      "12\n"
     ]
    }
   ],
   "source": [
    "wordList = ()\n",
    "\n",
    "abstracts1 = dict()\n",
    "with open('datasets/abstracts.txt', 'r', encoding = 'utf8') as f:\n",
    "    for line in f:\n",
    "        node, abstract = line.split('|--|')\n",
    "        abstracts1[int(node)] = abstract\n",
    "\n",
    "#for node in abstracts1:\n",
    "    #abstracts1[node] = set(abstracts1[node].split()) \n",
    "\n",
    "# word frequency\n",
    "\n",
    "\n",
    "\"\"\"\n",
    "\n",
    "string = abstracts1[3]\n",
    "str_list = string.split()\n",
    "unique_words = set(str_list)\n",
    "\n",
    "for word in unique_words:\n",
    "    if len(word) >= 3 and len(word) <= 6:\n",
    "        continue\n",
    "        #print(word)\n",
    "\n",
    "# 3 , 2214\n",
    "# 11042 11239\n",
    "\n",
    "#for word in unique_words:\n",
    "    #print('Frequency of ', word , 'is :', str_list.count(word))\n",
    "        \n",
    "#print(abstracts1[3]) \n",
    "\n",
    "\"\"\"\n",
    "    \n",
    "\"\"\"\n",
    "\n",
    "for word in string:\n",
    "    str_list = word.split()\n",
    "\n",
    "unique_words = set(str_list)\n",
    "\n",
    "for word in unique_words:\n",
    "    print('Frequency of ', word , 'is :', str_list.count(word))\n",
    "\"\"\"\n",
    "\n",
    "#for i in range(0,10):\n",
    "    #print(X_test[i][6])\n",
    "\n",
    "for i,edge in enumerate(authorGraph.edges()):\n",
    "    if i > 3:\n",
    "        break\n",
    "    print(authorGraph.degree[edge[0]])\n",
    "    \n",
    "#print(abstracts[134761])\n",
    "#for word in authors[2559]:\n",
    "   # word = word.split()\n",
    "   # print(word)\n",
    "#abslist = list(abstracts[0])\n",
    "\n",
    "#print(abstracts[0])\n",
    "#sim5 = model1.wv.most_similar(absSet[1])\n",
    "#print(sim5)\n",
    "#print(authors[2559])\n",
    "#result = abstracts1[134761].intersection(authors[2559])\n",
    "#print(result)\n",
    "\n",
    "# prwta 5 stoixeia tou CSV\n",
    "# 0\t0.976707924\n",
    "# 1\t0.144358737\n",
    "# 2\t0.957898003\n",
    "# 3\t0.192365151\n",
    "# 4\t0.245021383\n",
    "# 5\t0.775259045\n",
    "\n",
    "# 1. vriskoume frequency olwn twn lexewn\n",
    "# 2. svhnoume oses einai >= \n",
    "# 3. se kathe abstract pairnoume \n",
    "\n",
    "\n",
    "# CBOW test with least frequent words\n",
    "#print(abstracts[0])"
   ]
  },
  {
   "cell_type": "markdown",
   "id": "8e663dd7",
   "metadata": {},
   "source": [
    "## CSV creation "
   ]
  },
  {
   "cell_type": "code",
   "execution_count": 47,
   "id": "ddcdee56",
   "metadata": {},
   "outputs": [
    {
     "name": "stdout",
     "output_type": "stream",
     "text": [
      "CSV successfully created.\n"
     ]
    }
   ],
   "source": [
    "# predict citation\n",
    "\n",
    "y_pred = model.predict_proba(X_test)\n",
    "y_pred = y_pred[:,1]\n",
    "\n",
    "# create csv\n",
    "\n",
    "predictions = zip(range(len(y_pred)), y_pred)\n",
    "with open(\"submission_csv.csv\",\"w\" , newline = '') as pred:\n",
    "    csv_out = csv.writer(pred)\n",
    "    csv_out.writerow(['id','predicted'])\n",
    "    for row in predictions:\n",
    "        csv_out.writerow(row)\n",
    "        \n",
    "print(\"CSV successfully created.\")"
   ]
  },
  {
   "cell_type": "markdown",
   "id": "902eb95d",
   "metadata": {},
   "source": [
    "## local Log Loss Computation"
   ]
  },
  {
   "cell_type": "code",
   "execution_count": 27,
   "id": "d8685745",
   "metadata": {
    "scrolled": false
   },
   "outputs": [
    {
     "name": "stdout",
     "output_type": "stream",
     "text": [
      "1.0342340848104377\n"
     ]
    }
   ],
   "source": [
    "# Log loss computation\n",
    "\n",
    "\n",
    "#binarray = np.zeros((len(X_test),n))\n",
    "binarray = np.zeros(len(X_test))\n",
    "mean = np.mean(X_test)\n",
    "\n",
    "for i in range(0,len(X_test)):\n",
    "    meanTuple = np.mean(X_test[i])\n",
    "    if meanTuple > mean:\n",
    "        binarray[i] = 1\n",
    "    else:\n",
    "        binarray[i] = 0\n",
    "        \n",
    "print(log_loss(binarray,y_pred))"
   ]
  },
  {
   "cell_type": "code",
   "execution_count": null,
   "id": "2e59ee3d",
   "metadata": {},
   "outputs": [],
   "source": []
  }
 ],
 "metadata": {
  "kernelspec": {
   "display_name": "Python 3 (ipykernel)",
   "language": "python",
   "name": "python3"
  },
  "language_info": {
   "codemirror_mode": {
    "name": "ipython",
    "version": 3
   },
   "file_extension": ".py",
   "mimetype": "text/x-python",
   "name": "python",
   "nbconvert_exporter": "python",
   "pygments_lexer": "ipython3",
   "version": "3.7.1"
  }
 },
 "nbformat": 4,
 "nbformat_minor": 5
}
