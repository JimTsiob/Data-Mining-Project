{
 "cells": [
  {
   "cell_type": "code",
   "execution_count": 1,
   "metadata": {},
   "outputs": [],
   "source": [
    "import networkx as nx\n",
    "import csv\n",
    "import numpy as np\n",
    "from sklearn.utils import shuffle\n",
    "import tensorflow as tf\n"
   ]
  },
  {
   "cell_type": "code",
   "execution_count": 2,
   "metadata": {},
   "outputs": [
    {
     "name": "stdout",
     "output_type": "stream",
     "text": [
      "Number of nodes: 138499\n",
      "Number of edges: 1091955\n"
     ]
    }
   ],
   "source": [
    "G=nx.read_edgelist('datasets/edgelist.txt', delimiter=',',create_using=nx.Graph(),nodetype=int)\n",
    "nodes=list(G.nodes())\n",
    "n=G.number_of_nodes()\n",
    "m=G.number_of_edges()\n",
    "\n",
    "print('Number of nodes:', n)\n",
    "\n",
    "print('Number of edges:', m)\n"
   ]
  },
  {
   "cell_type": "code",
   "execution_count": 3,
   "metadata": {},
   "outputs": [],
   "source": [
    "abstracts=dict()\n",
    "with open('datasets/abstracts.txt', 'r',encoding=\"utf-8\") as f:\n",
    "    for line in f:\n",
    "        node,abstract=line.split('|--|')\n",
    "        abstracts[int(node)]=abstract"
   ]
  },
  {
   "cell_type": "code",
   "execution_count": 4,
   "metadata": {},
   "outputs": [],
   "source": [
    "\n",
    "def initialize_x_train(number_of_edges,list_of_features,mypath):\n",
    "    mypath=mypath\n",
    "    number_of_features=len(list_of_features)\n",
    "    print(\"number_of_edges:\",number_of_edges)\n",
    "    #mul by 2 for the training matrix\n",
    "    x=np.zeros((2*number_of_edges,number_of_features))\n",
    "    for idx,feature in enumerate(list_of_features):\n",
    "        print(\"loading column {} with feature {}\".format(idx,feature))\n",
    "        x[:,idx]=np.genfromtxt(mypath+feature,delimiter=',')\n",
    "    return x"
   ]
  },
  {
   "cell_type": "code",
   "execution_count": 5,
   "metadata": {},
   "outputs": [],
   "source": [
    "def initialize_x_test(number_of_edges,list_of_features,mypath):\n",
    "    mypath=mypath\n",
    "    number_of_features=len(list_of_features)\n",
    "    print(\"number_of_edges:\",number_of_edges)\n",
    "    #mul by 1 for the training matrix\n",
    "    x=np.zeros((number_of_edges,number_of_features))\n",
    "    for idx,feature in enumerate(list_of_features):\n",
    "        print(\"loading column {} with feature {}\".format(idx,feature))\n",
    "        x[:,idx]=np.genfromtxt(mypath+feature,delimiter=',')\n",
    "    return x"
   ]
  },
  {
   "cell_type": "code",
   "execution_count": 6,
   "metadata": {},
   "outputs": [],
   "source": [
    "from os import listdir\n",
    "from os.path import isfile,join\n",
    "def get_feature_files(mypath):\n",
    "    mypath=mypath\n",
    "    features_to_include=[feature for feature in listdir(mypath)]\n",
    "    print(\"included features are: \",features_to_include)\n",
    "    return features_to_include\n",
    "    "
   ]
  },
  {
   "cell_type": "code",
   "execution_count": 7,
   "metadata": {},
   "outputs": [
    {
     "name": "stdout",
     "output_type": "stream",
     "text": [
      "included features are:  ['abs_diff_author_graph_degree.csv', 'abs_diff_average_neighbor_degree.csv', 'abs_diff_clustering.csv', 'abs_diff_pagerank.csv', 'authorities_sum.csv', 'author_graph_degree_sum.csv', 'average_neighbor_degree.csv', 'clustering_sum.csv', 'degree_centrality.csv', 'doc2vec_train.csv', 'hubs_sum.csv', 'pagerank_sum.csv', 'word2vec_train.csv']\n",
      "number_of_edges: 1091955\n",
      "loading column 0 with feature abs_diff_author_graph_degree.csv\n",
      "loading column 1 with feature abs_diff_average_neighbor_degree.csv\n",
      "loading column 2 with feature abs_diff_clustering.csv\n",
      "loading column 3 with feature abs_diff_pagerank.csv\n",
      "loading column 4 with feature authorities_sum.csv\n",
      "loading column 5 with feature author_graph_degree_sum.csv\n",
      "loading column 6 with feature average_neighbor_degree.csv\n",
      "loading column 7 with feature clustering_sum.csv\n",
      "loading column 8 with feature degree_centrality.csv\n",
      "loading column 9 with feature doc2vec_train.csv\n",
      "loading column 10 with feature hubs_sum.csv\n",
      "loading column 11 with feature pagerank_sum.csv\n",
      "loading column 12 with feature word2vec_train.csv\n"
     ]
    }
   ],
   "source": [
    "mypath='C:/Users/pchrk/OneDrive/Desktop/features/features_train/p/'\n",
    "X_train=initialize_x_train(m,get_feature_files(mypath),mypath)"
   ]
  },
  {
   "cell_type": "code",
   "execution_count": 8,
   "metadata": {},
   "outputs": [],
   "source": [
    "y_train=np.genfromtxt('datasets/Y_train.csv',delimiter=',')"
   ]
  },
  {
   "cell_type": "code",
   "execution_count": 9,
   "metadata": {},
   "outputs": [],
   "source": [
    "X_train_m,y_train_m=shuffle(X_train,y_train)"
   ]
  },
  {
   "cell_type": "code",
   "execution_count": 10,
   "metadata": {},
   "outputs": [],
   "source": [
    "node_pairs = list()\n",
    "with open('datasets/test.txt', 'r') as f:\n",
    "    for line in f:\n",
    "        t = line.split(',')\n",
    "        #the raw split form is ['12223', '345332\\n']\n",
    "        #we need to make them integers\n",
    "        #use the function int()\n",
    "        node_pairs.append((int(t[0]), int(t[1])))"
   ]
  },
  {
   "cell_type": "code",
   "execution_count": 11,
   "metadata": {},
   "outputs": [
    {
     "name": "stdout",
     "output_type": "stream",
     "text": [
      "included features are:  ['abs_diff_author_graph_degree_test.csv', 'abs_diff_average_neighbor_degree_test.csv', 'abs_diff_clustering_test.csv', 'abs_diff_pagerank_test.csv', 'authorities_sum_test.csv', 'author_graph_degree_sum_test.csv', 'average_neighbor_degree_test.csv', 'clustering_sum_test.csv', 'degree_centrality_test.csv', 'doc2vec_test.csv', 'hubs_sum_test.csv', 'pagerank_sum_test.csv', 'word2vec_test.csv']\n",
      "number_of_edges: 106692\n",
      "loading column 0 with feature abs_diff_author_graph_degree_test.csv\n",
      "loading column 1 with feature abs_diff_average_neighbor_degree_test.csv\n",
      "loading column 2 with feature abs_diff_clustering_test.csv\n",
      "loading column 3 with feature abs_diff_pagerank_test.csv\n",
      "loading column 4 with feature authorities_sum_test.csv\n",
      "loading column 5 with feature author_graph_degree_sum_test.csv\n",
      "loading column 6 with feature average_neighbor_degree_test.csv\n",
      "loading column 7 with feature clustering_sum_test.csv\n",
      "loading column 8 with feature degree_centrality_test.csv\n",
      "loading column 9 with feature doc2vec_test.csv\n",
      "loading column 10 with feature hubs_sum_test.csv\n",
      "loading column 11 with feature pagerank_sum_test.csv\n",
      "loading column 12 with feature word2vec_test.csv\n"
     ]
    }
   ],
   "source": [
    "mypath='C:/Users/pchrk/OneDrive/Desktop/features/features_test/p/'\n",
    "X_test=initialize_x_test(len(node_pairs),get_feature_files(mypath),mypath)"
   ]
  },
  {
   "cell_type": "code",
   "execution_count": 14,
   "metadata": {},
   "outputs": [],
   "source": [
    "from keras import models,layers\n",
    "\n",
    "model=models.Sequential()\n",
    "model.add(layers.Dense(128,activation='relu',input_shape=(13,)))\n",
    "model.add(layers.Dense(128,activation='relu'))\n",
    "model.add(layers.Dense(128,activation='relu'))\n",
    "model.add(layers.Dense(1,activation='sigmoid'))"
   ]
  },
  {
   "cell_type": "code",
   "execution_count": 15,
   "metadata": {},
   "outputs": [
    {
     "name": "stdout",
     "output_type": "stream",
     "text": [
      "Epoch 1/10\n",
      "4266/4266 [==============================] - 13s 3ms/step - loss: 0.7107 - accuracy: 0.5334\n",
      "Epoch 2/10\n",
      "4266/4266 [==============================] - 12s 3ms/step - loss: 0.6725 - accuracy: 0.5791\n",
      "Epoch 3/10\n",
      "4266/4266 [==============================] - 12s 3ms/step - loss: 0.6680 - accuracy: 0.5874\n",
      "Epoch 4/10\n",
      "4266/4266 [==============================] - 12s 3ms/step - loss: 0.6668 - accuracy: 0.5894\n",
      "Epoch 5/10\n",
      "4266/4266 [==============================] - 13s 3ms/step - loss: 0.6660 - accuracy: 0.5906\n",
      "Epoch 6/10\n",
      "4266/4266 [==============================] - 13s 3ms/step - loss: 0.6655 - accuracy: 0.5915\n",
      "Epoch 7/10\n",
      "4266/4266 [==============================] - 12s 3ms/step - loss: 0.6651 - accuracy: 0.5923\n",
      "Epoch 8/10\n",
      "4266/4266 [==============================] - 12s 3ms/step - loss: 0.6648 - accuracy: 0.5928\n",
      "Epoch 9/10\n",
      "4266/4266 [==============================] - 12s 3ms/step - loss: 0.6646 - accuracy: 0.5927\n",
      "Epoch 10/10\n",
      "4266/4266 [==============================] - 12s 3ms/step - loss: 0.6645 - accuracy: 0.5929\n"
     ]
    }
   ],
   "source": [
    "model.compile(optimizer='adam',loss='binary_crossentropy',metrics=['accuracy'])\n",
    "history=model.fit(X_train,y_train,epochs=10,batch_size=512)"
   ]
  },
  {
   "cell_type": "code",
   "execution_count": 18,
   "metadata": {},
   "outputs": [
    {
     "data": {
      "text/plain": [
       "<matplotlib.legend.Legend at 0x126b20e8370>"
      ]
     },
     "execution_count": 18,
     "metadata": {},
     "output_type": "execute_result"
    },
    {
     "data": {
      "image/png": "[encoded data removed]",
      "text/plain": [
       "<Figure size 432x288 with 1 Axes>"
      ]
     },
     "metadata": {
      "needs_background": "light"
     },
     "output_type": "display_data"
    }
   ],
   "source": [
    "import matplotlib.pyplot as plt\n",
    "plt.plot(history.history['accuracy'])\n",
    "plt.plot(history.history['loss'])\n",
    "plt.legend([\"accuracy\",\"loss\"])"
   ]
  },
  {
   "cell_type": "code",
   "execution_count": 19,
   "metadata": {},
   "outputs": [
    {
     "name": "stdout",
     "output_type": "stream",
     "text": [
      "3335/3335 [==============================] - 4s 1ms/step\n",
      "[0.5606095  0.3155239  0.45690444 0.3131552  0.6790134  0.64789265\n",
      " 0.56629187 0.4611507  0.52865916 0.51565367 0.66458356 0.45269486\n",
      " 0.31047815 0.54145986 0.49280238 0.6182527  0.56867063 0.4007239\n",
      " 0.51822793 0.30841503]\n"
     ]
    }
   ],
   "source": [
    "y_pred=model.predict(X_test)\n",
    "print(y_pred[:20,0])"
   ]
  },
  {
   "cell_type": "code",
   "execution_count": 20,
   "metadata": {},
   "outputs": [],
   "source": [
    "import csv\n",
    "predictions=list(zip(range(len(y_pred)),y_pred[:,0]))\n",
    "with open(\"submission_keras1noscale.csv\", 'w') as outfile:\n",
    "    csv_out=csv.writer(outfile)\n",
    "    csv_out.writerow(['id','predicted'])\n",
    "\n",
    "    for row in predictions: \n",
    "        csv_out.writerow(row)"
   ]
  }
 ],
 "metadata": {
  "interpreter": {
   "hash": "da22d4198b655ef0960ccd2ab85141aaa05c0c035eb04e9505cdd8240da58ecf"
  },
  "kernelspec": {
   "display_name": "Python 3.10.4 ('ml_venv': venv)",
   "language": "python",
   "name": "python3"
  },
  "language_info": {
   "codemirror_mode": {
    "name": "ipython",
    "version": 3
   },
   "file_extension": ".py",
   "mimetype": "text/x-python",
   "name": "python",
   "nbconvert_exporter": "python",
   "pygments_lexer": "ipython3",
   "version": "3.10.4"
  },
  "orig_nbformat": 4
 },
 "nbformat": 4,
 "nbformat_minor": 2
}
